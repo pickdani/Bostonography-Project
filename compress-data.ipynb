{
 "cells": [
  {
   "cell_type": "code",
   "execution_count": 9,
   "metadata": {},
   "outputs": [],
   "source": [
    "import pandas as pd\n",
    "\n",
    "# compress data files, github 100mb limit so only include compressed in repo\n",
    "df0 = pd.read_csv('2012-2015-crime.csv', low_memory=False)\n",
    "df1 = pd.read_csv('2015-crime.csv', low_memory=False)\n",
    "df2 = pd.read_csv('2016-crime.csv', low_memory=False)\n",
    "df3 = pd.read_csv('2017-crime.csv', low_memory=False)\n",
    "df4 = pd.read_csv('2018-crime.csv', low_memory=False)\n",
    "df5 = pd.read_csv('2019-crime.csv', low_memory=False)\n",
    "df6 = pd.read_csv('2020-crime.csv', low_memory=False)\n",
    "df7 = pd.read_csv('2021-crime.csv', low_memory=False)\n",
    "df1.to_csv('2012-2015-crime.csv.gz',compression='gzip',sep=',',index=False)\n",
    "df1.to_csv('2015-crime.csv.gz',compression='gzip',sep=',',index=False)\n",
    "df2.to_csv('2016-crime.csv.gz',compression='gzip',sep=',',index=False)\n",
    "df3.to_csv('2017-crime.csv.gz',compression='gzip',sep=',',index=False)\n",
    "df4.to_csv('2018-crime.csv.gz',compression='gzip',sep=',',index=False)\n",
    "df5.to_csv('2019-crime.csv.gz',compression='gzip',sep=',',index=False)\n",
    "df6.to_csv('2020-crime.csv.gz',compression='gzip',sep=',',index=False)\n",
    "df7.to_csv('2021-crime.csv.gz',compression='gzip',sep=',',index=False)\n",
    "\n",
    "df_alc = pd.read_csv('alcohol.csv')\n",
    "df_alc.to_csv('alcohol.csv.gz',compression='gzip',sep=',',index=False)"
   ]
  },
  {
   "cell_type": "code",
   "execution_count": null,
   "metadata": {},
   "outputs": [],
   "source": []
  }
 ],
 "metadata": {
  "kernelspec": {
   "display_name": "Python 3",
   "language": "python",
   "name": "python3"
  },
  "language_info": {
   "codemirror_mode": {
    "name": "ipython",
    "version": 3
   },
   "file_extension": ".py",
   "mimetype": "text/x-python",
   "name": "python",
   "nbconvert_exporter": "python",
   "pygments_lexer": "ipython3",
   "version": "3.8.2"
  }
 },
 "nbformat": 4,
 "nbformat_minor": 4
}
